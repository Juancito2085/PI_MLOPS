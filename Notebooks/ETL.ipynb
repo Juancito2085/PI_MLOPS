{
 "cells": [
  {
   "cell_type": "markdown",
   "metadata": {},
   "source": [
    "# ETL"
   ]
  },
  {
   "cell_type": "markdown",
   "metadata": {},
   "source": [
    "Aquí se realizarán las transformaciones necesarias para tener datasets para optimizar las consultas."
   ]
  },
  {
   "cell_type": "code",
   "execution_count": 12,
   "metadata": {},
   "outputs": [],
   "source": [
    "import pandas as pd\n",
    "import numpy as np\n",
    "import ast\n",
    "import json"
   ]
  },
  {
   "cell_type": "code",
   "execution_count": 13,
   "metadata": {},
   "outputs": [],
   "source": [
    "#Se cargan todos los datos limpios para poder hacer las transformaciones necesarias\n",
    "df_games=pd.read_parquet(r'Datasets/steam_games_clean.parquet')\n",
    "df_users=pd.read_parquet(r'Datasets/users_items_clean.parquet')\n",
    "df_reviews=pd.read_parquet(r'Datasets/user_reviews_clean.parquet')"
   ]
  },
  {
   "cell_type": "markdown",
   "metadata": {},
   "source": [
    "## Análisis de sentimiento\n",
    "En esta sección antes de realizar otras transformaciones se realizara el análisis de sentimientos mediante la librería **TextBlob** para simplificar el proceso. Pero esta análisis se puede realizar con otras librerías más complejas o mas elaboradas."
   ]
  },
  {
   "cell_type": "code",
   "execution_count": 15,
   "metadata": {},
   "outputs": [],
   "source": [
    "from textblob import TextBlob\n",
    "\n",
    "#Se crea una función para devolver el el análisis de sentimiento \n",
    "#de un review pero en un rango de 0 a 2\n",
    "def sentiment(review):\n",
    "    blob=TextBlob(review)\n",
    "    resultado=1 + round(blob.sentiment.polarity)\n",
    "    return resultado\n",
    "\n",
    "#Se aplica la función a todos los reviews y se crea la columna nueva sentiment\n",
    "df_reviews['sentiment']=df_reviews['review'].apply(sentiment)\n",
    "\n",
    "#Se elimina la columna review\n",
    "df_reviews.drop(columns=['review'],inplace=True)"
   ]
  },
  {
   "cell_type": "markdown",
   "metadata": {},
   "source": [
    "## Transformación\n",
    "Una vez finalizado el análisis de sentimiento vamos a comenzar a transformar y unir los datasets para que la API y el modelo de similitud del coseno puedan utilizarlos"
   ]
  },
  {
   "cell_type": "markdown",
   "metadata": {},
   "source": [
    "### Dataset developers"
   ]
  },
  {
   "cell_type": "code",
   "execution_count": 16,
   "metadata": {},
   "outputs": [],
   "source": [
    "#Se agrupa los datos por item id y se crea un nuevo dataframe con la cantidad de reviews positivos, negativos y neutros\n",
    "df_item_sentiment_counts = df_reviews.groupby('item_id')['sentiment'].value_counts().unstack().reset_index()\n",
    "\n",
    "#Se crea un nuevo dataframe con la cantidad de recomendaciones positivas y negativas\n",
    "df_item_recommend_count=df_reviews.groupby('item_id')['recommend'].value_counts().unstack().reset_index()\n",
    "\n",
    "#Se unen los dos dataframes anteriores\n",
    "df_counts=pd.merge(df_item_sentiment_counts,df_item_recommend_count,on='item_id')\n",
    "\n",
    "#Se rellenan los valores nulos con 0\n",
    "df_counts.fillna(0,inplace=True)\n",
    "\n",
    "#Se une el dataframe de los juegos con el dataframe de los conteos\n",
    "df_developers=pd.merge(df_games[['price','developer','release_year','id']],df_counts,left_on='id',right_on='item_id')\n",
    "\n",
    "#Se elimina la columna id que no se van a utilizar\n",
    "df_developers.drop('id',axis=1,inplace=True)\n",
    "\n",
    "#Se renombran las columnas\n",
    "df_developers.rename(columns={'0_x':'Negative','1_x':'Neutral',2:'Positive','False_y':'False','True_y':'True'},inplace=True)\n",
    "\n",
    "#Se cambian los tipos de datos de las columnas\n",
    "df_developers = df_developers.astype({'release_year':'int16','Negative': 'int16', 'Neutral': 'int16', 'Positive': 'int16', 'False': 'int16', 'True': 'int16'})"
   ]
  },
  {
   "cell_type": "code",
   "execution_count": 17,
   "metadata": {},
   "outputs": [
    {
     "name": "stdout",
     "output_type": "stream",
     "text": [
      "<class 'pandas.core.frame.DataFrame'>\n",
      "RangeIndex: 2971 entries, 0 to 2970\n",
      "Data columns (total 9 columns):\n",
      " #   Column        Non-Null Count  Dtype  \n",
      "---  ------        --------------  -----  \n",
      " 0   price         2971 non-null   float64\n",
      " 1   developer     2971 non-null   object \n",
      " 2   release_year  2971 non-null   int16  \n",
      " 3   item_id       2971 non-null   int32  \n",
      " 4   Negative      2971 non-null   int16  \n",
      " 5   Neutral       2971 non-null   int16  \n",
      " 6   Positive      2971 non-null   int16  \n",
      " 7   False         2971 non-null   int16  \n",
      " 8   True          2971 non-null   int16  \n",
      "dtypes: float64(1), int16(6), int32(1), object(1)\n",
      "memory usage: 93.0+ KB\n"
     ]
    }
   ],
   "source": [
    "#Corroboramos el dafatrame final\n",
    "df_developers.info()"
   ]
  },
  {
   "cell_type": "code",
   "execution_count": 18,
   "metadata": {},
   "outputs": [],
   "source": [
    "#Se guarda el dataframe en un archivo parquet\n",
    "df_developers.to_parquet(r'Datasets/developers.parquet')"
   ]
  },
  {
   "cell_type": "markdown",
   "metadata": {},
   "source": [
    "### Datasets de users"
   ]
  },
  {
   "cell_type": "code",
   "execution_count": 22,
   "metadata": {},
   "outputs": [],
   "source": [
    "df_games=pd.read_parquet(r'Datasets/steam_games_clean.parquet')\n",
    "df_users=pd.read_parquet(r'Datasets/users_items_clean.parquet')\n",
    "df_reviews=pd.read_parquet(r'Datasets/user_reviews_clean.parquet')"
   ]
  },
  {
   "cell_type": "code",
   "execution_count": 23,
   "metadata": {},
   "outputs": [],
   "source": [
    "#Se cambia el tipo de dato de los usuarios a string\n",
    "df_users['user_id']=df_users['user_id'].astype('str')"
   ]
  },
  {
   "cell_type": "code",
   "execution_count": 24,
   "metadata": {},
   "outputs": [],
   "source": [
    "#Se crea el df1 de la unión de los juegos y los usuarios y se eliminan las columnas que no se utilizan\n",
    "df1=pd.merge(df_games,df_users,left_on='id',right_on='item_id',how= 'inner')\n",
    "df1.drop(columns=['id','developer','app_name','tags'],inplace=True)\n",
    "df1.drop(columns=['item_id'],inplace=True)\n",
    "\n",
    "#En la columna de generos se toma solo el primer genero como más importante\n",
    "df1['genres'] = df1['genres'].apply(lambda x: x[0] if len(x) > 0 else None)\n",
    "\n",
    "#Se crea un nuevo dataframe con la cantidad de items por usuario\n",
    "df_grouped = df1.groupby(['release_year', 'items_count', 'user_id','genres']).sum().reset_index()\n"
   ]
  },
  {
   "cell_type": "code",
   "execution_count": 26,
   "metadata": {},
   "outputs": [
    {
     "name": "stdout",
     "output_type": "stream",
     "text": [
      "<class 'pandas.core.frame.DataFrame'>\n",
      "RangeIndex: 1219006 entries, 0 to 1219005\n",
      "Data columns (total 6 columns):\n",
      " #   Column            Non-Null Count    Dtype  \n",
      "---  ------            --------------    -----  \n",
      " 0   release_year      1219006 non-null  object \n",
      " 1   items_count       1219006 non-null  int16  \n",
      " 2   user_id           1219006 non-null  object \n",
      " 3   genres            1219006 non-null  object \n",
      " 4   price             1219006 non-null  float64\n",
      " 5   playtime_forever  1219006 non-null  float32\n",
      "dtypes: float32(1), float64(1), int16(1), object(3)\n",
      "memory usage: 44.2+ MB\n"
     ]
    }
   ],
   "source": [
    "df_grouped.info()"
   ]
  },
  {
   "cell_type": "code",
   "execution_count": 27,
   "metadata": {},
   "outputs": [
    {
     "data": {
      "text/html": [
       "<div>\n",
       "<style scoped>\n",
       "    .dataframe tbody tr th:only-of-type {\n",
       "        vertical-align: middle;\n",
       "    }\n",
       "\n",
       "    .dataframe tbody tr th {\n",
       "        vertical-align: top;\n",
       "    }\n",
       "\n",
       "    .dataframe thead th {\n",
       "        text-align: right;\n",
       "    }\n",
       "</style>\n",
       "<table border=\"1\" class=\"dataframe\">\n",
       "  <thead>\n",
       "    <tr style=\"text-align: right;\">\n",
       "      <th></th>\n",
       "      <th>release_year</th>\n",
       "      <th>items_count</th>\n",
       "      <th>user_id</th>\n",
       "      <th>genres</th>\n",
       "      <th>price</th>\n",
       "      <th>playtime_forever</th>\n",
       "    </tr>\n",
       "  </thead>\n",
       "  <tbody>\n",
       "    <tr>\n",
       "      <th>3</th>\n",
       "      <td>1983</td>\n",
       "      <td>43</td>\n",
       "      <td>76561198064710856</td>\n",
       "      <td>Action</td>\n",
       "      <td>9.99</td>\n",
       "      <td>37.0</td>\n",
       "    </tr>\n",
       "    <tr>\n",
       "      <th>101</th>\n",
       "      <td>1984</td>\n",
       "      <td>43</td>\n",
       "      <td>76561198064710856</td>\n",
       "      <td>Action</td>\n",
       "      <td>9.99</td>\n",
       "      <td>92.0</td>\n",
       "    </tr>\n",
       "    <tr>\n",
       "      <th>367606</th>\n",
       "      <td>2009</td>\n",
       "      <td>43</td>\n",
       "      <td>76561198064710856</td>\n",
       "      <td>Action</td>\n",
       "      <td>0.00</td>\n",
       "      <td>21.0</td>\n",
       "    </tr>\n",
       "    <tr>\n",
       "      <th>541589</th>\n",
       "      <td>2011</td>\n",
       "      <td>43</td>\n",
       "      <td>76561198064710856</td>\n",
       "      <td>Action</td>\n",
       "      <td>9.99</td>\n",
       "      <td>0.0</td>\n",
       "    </tr>\n",
       "    <tr>\n",
       "      <th>754098</th>\n",
       "      <td>2013</td>\n",
       "      <td>43</td>\n",
       "      <td>76561198064710856</td>\n",
       "      <td>Action</td>\n",
       "      <td>14.99</td>\n",
       "      <td>109.0</td>\n",
       "    </tr>\n",
       "    <tr>\n",
       "      <th>878543</th>\n",
       "      <td>2014</td>\n",
       "      <td>43</td>\n",
       "      <td>76561198064710856</td>\n",
       "      <td>Action</td>\n",
       "      <td>1.99</td>\n",
       "      <td>178.0</td>\n",
       "    </tr>\n",
       "    <tr>\n",
       "      <th>999554</th>\n",
       "      <td>2015</td>\n",
       "      <td>43</td>\n",
       "      <td>76561198064710856</td>\n",
       "      <td>Action</td>\n",
       "      <td>14.99</td>\n",
       "      <td>497.0</td>\n",
       "    </tr>\n",
       "    <tr>\n",
       "      <th>999555</th>\n",
       "      <td>2015</td>\n",
       "      <td>43</td>\n",
       "      <td>76561198064710856</td>\n",
       "      <td>Free to Play</td>\n",
       "      <td>0.00</td>\n",
       "      <td>1.0</td>\n",
       "    </tr>\n",
       "    <tr>\n",
       "      <th>1110294</th>\n",
       "      <td>2016</td>\n",
       "      <td>43</td>\n",
       "      <td>76561198064710856</td>\n",
       "      <td>Action</td>\n",
       "      <td>0.00</td>\n",
       "      <td>12.0</td>\n",
       "    </tr>\n",
       "    <tr>\n",
       "      <th>1189323</th>\n",
       "      <td>2017</td>\n",
       "      <td>43</td>\n",
       "      <td>76561198064710856</td>\n",
       "      <td>Action</td>\n",
       "      <td>60.00</td>\n",
       "      <td>0.0</td>\n",
       "    </tr>\n",
       "  </tbody>\n",
       "</table>\n",
       "</div>"
      ],
      "text/plain": [
       "        release_year  items_count            user_id        genres  price  \\\n",
       "3               1983           43  76561198064710856        Action   9.99   \n",
       "101             1984           43  76561198064710856        Action   9.99   \n",
       "367606          2009           43  76561198064710856        Action   0.00   \n",
       "541589          2011           43  76561198064710856        Action   9.99   \n",
       "754098          2013           43  76561198064710856        Action  14.99   \n",
       "878543          2014           43  76561198064710856        Action   1.99   \n",
       "999554          2015           43  76561198064710856        Action  14.99   \n",
       "999555          2015           43  76561198064710856  Free to Play   0.00   \n",
       "1110294         2016           43  76561198064710856        Action   0.00   \n",
       "1189323         2017           43  76561198064710856        Action  60.00   \n",
       "\n",
       "         playtime_forever  \n",
       "3                    37.0  \n",
       "101                  92.0  \n",
       "367606               21.0  \n",
       "541589                0.0  \n",
       "754098              109.0  \n",
       "878543              178.0  \n",
       "999554              497.0  \n",
       "999555                1.0  \n",
       "1110294              12.0  \n",
       "1189323               0.0  "
      ]
     },
     "execution_count": 27,
     "metadata": {},
     "output_type": "execute_result"
    }
   ],
   "source": [
    "df_grouped[df_grouped['user_id']=='76561198064710856']"
   ]
  },
  {
   "cell_type": "code",
   "execution_count": 28,
   "metadata": {},
   "outputs": [],
   "source": [
    "#Se guarda el dataframe en un archivo parquet\n",
    "df_grouped.to_parquet(r'Datasets/users.parquet')"
   ]
  },
  {
   "cell_type": "markdown",
   "metadata": {},
   "source": [
    "### Dataset users_recommends"
   ]
  },
  {
   "cell_type": "code",
   "execution_count": 31,
   "metadata": {},
   "outputs": [],
   "source": [
    "#Se crea el dataframe 2 con los reviews y se eliminan las columnas que no se utilizan\n",
    "df2=df_reviews.copy()\n",
    "df2=df2.drop(columns=(['review','item_id']),axis=1)\n",
    "#Se agrupan por user id y se cuentan las recomendaciones \n",
    "total=df2.groupby('user_id')['recommend'].count()\n",
    "#Se cuentan las recomendaciones positivas\n",
    "positivos=df2[df2['recommend']==True].groupby('user_id')['recommend'].count()\n",
    "positivos=positivos.reindex(total.index,fill_value=0)\n",
    "#Se calcula el porcentaje\n",
    "porcentaje_positivos=positivos*100/total\n",
    "#Se unen los dataframes\n",
    "df2=pd.merge(df2,porcentaje_positivos,on='user_id')\n",
    "#Se eliminan los duplicados\n",
    "df2.drop_duplicates(inplace=True)\n",
    "#Se eliminan la columna que no se utiliza\n",
    "df2.drop(columns=['recommend_x'],inplace=True)\n",
    "#Se renombran la columna\n",
    "df2.rename(columns={'recommend_y':'perc_recomm'},inplace=True)\n",
    "#Se convierte al columna a string y se le agrega el signo de porcentaje\n",
    "df2['perc_recomm']=df2['perc_recomm'].astype('str')+'%'\n",
    "#Se convierte la columna user_id a string\n",
    "df2['user_id']=df2['user_id'].astype('str')"
   ]
  },
  {
   "cell_type": "code",
   "execution_count": 32,
   "metadata": {},
   "outputs": [],
   "source": [
    "#Se guarda el dataframe en un archivo parquet\n",
    "df2.to_parquet(r'Datasets/user_recommends.parquet')"
   ]
  },
  {
   "cell_type": "markdown",
   "metadata": {},
   "source": [
    "### Dataset data_ML"
   ]
  },
  {
   "cell_type": "code",
   "execution_count": 34,
   "metadata": {},
   "outputs": [],
   "source": [
    "df=df_games.copy()\n",
    "\n",
    "#Se eliminan las columnas que no se van a utilizar\n",
    "df.drop(columns=['developer','price'],inplace=True)\n",
    "\n",
    "#Para simplicar se elige el primer valor de la lista dentro de la columna genres\n",
    "df['genres'] = df['genres'].apply(lambda x: x[0] if len(x) > 0 else None)\n",
    "\n",
    "#Se toma solo el primer tag para simplificar\n",
    "df['tags'] = df['tags'].apply(lambda x: x[0] if len(x) > 0 else None)\n",
    "\n",
    "#Se convierte la columna del año a entero\n",
    "df_developers['release_year']=df_developers['release_year'].astype('int16')"
   ]
  },
  {
   "cell_type": "code",
   "execution_count": 35,
   "metadata": {},
   "outputs": [],
   "source": [
    "#Se guarda el dataset en un archivo parquet\n",
    "df.to_parquet(r'Datasets/data_ML.parquet')"
   ]
  }
 ],
 "metadata": {
  "kernelspec": {
   "display_name": "Python 3",
   "language": "python",
   "name": "python3"
  },
  "language_info": {
   "codemirror_mode": {
    "name": "ipython",
    "version": 3
   },
   "file_extension": ".py",
   "mimetype": "text/x-python",
   "name": "python",
   "nbconvert_exporter": "python",
   "pygments_lexer": "ipython3",
   "version": "3.12.1"
  }
 },
 "nbformat": 4,
 "nbformat_minor": 2
}
