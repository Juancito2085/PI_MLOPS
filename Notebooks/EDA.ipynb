{
 "cells": [
  {
   "cell_type": "markdown",
   "metadata": {},
   "source": [
    "# EDA\n",
    "En este notebook se hará un análisis exploratorio para poder tener una información mínima de los datos y se planteará como objetivo la reducción de la cantidad de datos debido a que se hara un deploy en la capa gratuita de Render y esta no cuenta con una gran catidad de recursos a nivel computacional."
   ]
  },
  {
   "cell_type": "markdown",
   "metadata": {},
   "source": [
    "## Análisis del archivo steam_games"
   ]
  },
  {
   "cell_type": "code",
   "execution_count": 1,
   "metadata": {},
   "outputs": [],
   "source": [
    "import pandas as pd\n",
    "import numpy as np\n",
    "import gzip\n",
    "import re\n",
    "import ast"
   ]
  },
  {
   "cell_type": "code",
   "execution_count": 42,
   "metadata": {},
   "outputs": [],
   "source": [
    "with gzip.open(r'E:\\Data Science\\PI1\\Datasets\\steam_games.json.gz','rt',encoding='utf-8') as f:\n",
    "    df_games= pd.read_json(f, lines=True)"
   ]
  },
  {
   "cell_type": "code",
   "execution_count": 3,
   "metadata": {},
   "outputs": [
    {
     "data": {
      "text/html": [
       "<div>\n",
       "<style scoped>\n",
       "    .dataframe tbody tr th:only-of-type {\n",
       "        vertical-align: middle;\n",
       "    }\n",
       "\n",
       "    .dataframe tbody tr th {\n",
       "        vertical-align: top;\n",
       "    }\n",
       "\n",
       "    .dataframe thead th {\n",
       "        text-align: right;\n",
       "    }\n",
       "</style>\n",
       "<table border=\"1\" class=\"dataframe\">\n",
       "  <thead>\n",
       "    <tr style=\"text-align: right;\">\n",
       "      <th></th>\n",
       "      <th>publisher</th>\n",
       "      <th>genres</th>\n",
       "      <th>app_name</th>\n",
       "      <th>title</th>\n",
       "      <th>url</th>\n",
       "      <th>release_date</th>\n",
       "      <th>tags</th>\n",
       "      <th>reviews_url</th>\n",
       "      <th>specs</th>\n",
       "      <th>price</th>\n",
       "      <th>early_access</th>\n",
       "      <th>id</th>\n",
       "      <th>developer</th>\n",
       "    </tr>\n",
       "  </thead>\n",
       "  <tbody>\n",
       "    <tr>\n",
       "      <th>0</th>\n",
       "      <td>None</td>\n",
       "      <td>None</td>\n",
       "      <td>None</td>\n",
       "      <td>None</td>\n",
       "      <td>None</td>\n",
       "      <td>None</td>\n",
       "      <td>None</td>\n",
       "      <td>None</td>\n",
       "      <td>None</td>\n",
       "      <td>None</td>\n",
       "      <td>NaN</td>\n",
       "      <td>NaN</td>\n",
       "      <td>None</td>\n",
       "    </tr>\n",
       "    <tr>\n",
       "      <th>1</th>\n",
       "      <td>None</td>\n",
       "      <td>None</td>\n",
       "      <td>None</td>\n",
       "      <td>None</td>\n",
       "      <td>None</td>\n",
       "      <td>None</td>\n",
       "      <td>None</td>\n",
       "      <td>None</td>\n",
       "      <td>None</td>\n",
       "      <td>None</td>\n",
       "      <td>NaN</td>\n",
       "      <td>NaN</td>\n",
       "      <td>None</td>\n",
       "    </tr>\n",
       "    <tr>\n",
       "      <th>2</th>\n",
       "      <td>None</td>\n",
       "      <td>None</td>\n",
       "      <td>None</td>\n",
       "      <td>None</td>\n",
       "      <td>None</td>\n",
       "      <td>None</td>\n",
       "      <td>None</td>\n",
       "      <td>None</td>\n",
       "      <td>None</td>\n",
       "      <td>None</td>\n",
       "      <td>NaN</td>\n",
       "      <td>NaN</td>\n",
       "      <td>None</td>\n",
       "    </tr>\n",
       "    <tr>\n",
       "      <th>3</th>\n",
       "      <td>None</td>\n",
       "      <td>None</td>\n",
       "      <td>None</td>\n",
       "      <td>None</td>\n",
       "      <td>None</td>\n",
       "      <td>None</td>\n",
       "      <td>None</td>\n",
       "      <td>None</td>\n",
       "      <td>None</td>\n",
       "      <td>None</td>\n",
       "      <td>NaN</td>\n",
       "      <td>NaN</td>\n",
       "      <td>None</td>\n",
       "    </tr>\n",
       "    <tr>\n",
       "      <th>4</th>\n",
       "      <td>None</td>\n",
       "      <td>None</td>\n",
       "      <td>None</td>\n",
       "      <td>None</td>\n",
       "      <td>None</td>\n",
       "      <td>None</td>\n",
       "      <td>None</td>\n",
       "      <td>None</td>\n",
       "      <td>None</td>\n",
       "      <td>None</td>\n",
       "      <td>NaN</td>\n",
       "      <td>NaN</td>\n",
       "      <td>None</td>\n",
       "    </tr>\n",
       "  </tbody>\n",
       "</table>\n",
       "</div>"
      ],
      "text/plain": [
       "  publisher genres app_name title   url release_date  tags reviews_url specs  \\\n",
       "0      None   None     None  None  None         None  None        None  None   \n",
       "1      None   None     None  None  None         None  None        None  None   \n",
       "2      None   None     None  None  None         None  None        None  None   \n",
       "3      None   None     None  None  None         None  None        None  None   \n",
       "4      None   None     None  None  None         None  None        None  None   \n",
       "\n",
       "  price  early_access  id developer  \n",
       "0  None           NaN NaN      None  \n",
       "1  None           NaN NaN      None  \n",
       "2  None           NaN NaN      None  \n",
       "3  None           NaN NaN      None  \n",
       "4  None           NaN NaN      None  "
      ]
     },
     "execution_count": 3,
     "metadata": {},
     "output_type": "execute_result"
    }
   ],
   "source": [
    "df_games.head()"
   ]
  },
  {
   "cell_type": "markdown",
   "metadata": {},
   "source": [
    "Se ve primero un vistazo general del dataframe y se evaluará que columnas son utiles para el MVP."
   ]
  },
  {
   "cell_type": "code",
   "execution_count": 4,
   "metadata": {},
   "outputs": [
    {
     "name": "stdout",
     "output_type": "stream",
     "text": [
      "<class 'pandas.core.frame.DataFrame'>\n",
      "RangeIndex: 120445 entries, 0 to 120444\n",
      "Data columns (total 13 columns):\n",
      " #   Column        Non-Null Count  Dtype  \n",
      "---  ------        --------------  -----  \n",
      " 0   publisher     24083 non-null  object \n",
      " 1   genres        28852 non-null  object \n",
      " 2   app_name      32133 non-null  object \n",
      " 3   title         30085 non-null  object \n",
      " 4   url           32135 non-null  object \n",
      " 5   release_date  30068 non-null  object \n",
      " 6   tags          31972 non-null  object \n",
      " 7   reviews_url   32133 non-null  object \n",
      " 8   specs         31465 non-null  object \n",
      " 9   price         30758 non-null  object \n",
      " 10  early_access  32135 non-null  float64\n",
      " 11  id            32133 non-null  float64\n",
      " 12  developer     28836 non-null  object \n",
      "dtypes: float64(2), object(11)\n",
      "memory usage: 11.9+ MB\n"
     ]
    }
   ],
   "source": [
    "df_games.info()"
   ]
  },
  {
   "cell_type": "markdown",
   "metadata": {},
   "source": [
    "Como primer paso se eliminan los datos que no aportan nada de información."
   ]
  },
  {
   "cell_type": "code",
   "execution_count": 43,
   "metadata": {},
   "outputs": [],
   "source": [
    "df_games.drop(['publisher','url','specs','early_access','reviews_url'],axis=1,inplace=True)"
   ]
  },
  {
   "cell_type": "markdown",
   "metadata": {},
   "source": [
    "Se ve como alrededor del 25% del total de entradas tienen información, por lo que se eliminan las filas vacias a continuación."
   ]
  },
  {
   "cell_type": "code",
   "execution_count": 44,
   "metadata": {},
   "outputs": [],
   "source": [
    "df_games=df_games.dropna(how='all')"
   ]
  },
  {
   "cell_type": "markdown",
   "metadata": {},
   "source": [
    "Veremos ahora la cantidad de nulos"
   ]
  },
  {
   "cell_type": "code",
   "execution_count": 45,
   "metadata": {},
   "outputs": [
    {
     "data": {
      "text/plain": [
       "genres          3283\n",
       "app_name           2\n",
       "title           2050\n",
       "release_date    2067\n",
       "tags             163\n",
       "price           1377\n",
       "id                 2\n",
       "developer       3299\n",
       "dtype: int64"
      ]
     },
     "execution_count": 45,
     "metadata": {},
     "output_type": "execute_result"
    }
   ],
   "source": [
    "df_games.isnull().sum()"
   ]
  },
  {
   "cell_type": "markdown",
   "metadata": {},
   "source": [
    "Primero se va a eliminar las filas donde los campos tengan pocos datos faltantes como *app_name*,*tags* e *id*."
   ]
  },
  {
   "cell_type": "code",
   "execution_count": 46,
   "metadata": {},
   "outputs": [],
   "source": [
    "df_games.dropna(subset=['app_name','tags','id'],inplace=True)"
   ]
  },
  {
   "cell_type": "markdown",
   "metadata": {},
   "source": [
    "Por simplicidad y debido a que es un MVP se borrarán los nulos de las columnas *genres*, *release_date*, *price* y *developer*.  "
   ]
  },
  {
   "cell_type": "code",
   "execution_count": 47,
   "metadata": {},
   "outputs": [],
   "source": [
    "df_games.dropna(subset=['genres','release_date','price','developer'],inplace=True)"
   ]
  },
  {
   "cell_type": "markdown",
   "metadata": {},
   "source": [
    "Se verifica a continuación el estado del daframe para verificar si sigue habiendo datos nulos."
   ]
  },
  {
   "cell_type": "code",
   "execution_count": 48,
   "metadata": {},
   "outputs": [
    {
     "data": {
      "text/plain": [
       "genres          0\n",
       "app_name        0\n",
       "title           0\n",
       "release_date    0\n",
       "tags            0\n",
       "price           0\n",
       "id              0\n",
       "developer       0\n",
       "dtype: int64"
      ]
     },
     "execution_count": 48,
     "metadata": {},
     "output_type": "execute_result"
    }
   ],
   "source": [
    "df_games.isnull().sum()"
   ]
  },
  {
   "cell_type": "markdown",
   "metadata": {},
   "source": [
    "Ahora se comparan las columnas de *app_name* y *title* para ver su similitud y se tiene datos redundantes."
   ]
  },
  {
   "cell_type": "code",
   "execution_count": 49,
   "metadata": {},
   "outputs": [
    {
     "data": {
      "text/html": [
       "<div>\n",
       "<style scoped>\n",
       "    .dataframe tbody tr th:only-of-type {\n",
       "        vertical-align: middle;\n",
       "    }\n",
       "\n",
       "    .dataframe tbody tr th {\n",
       "        vertical-align: top;\n",
       "    }\n",
       "\n",
       "    .dataframe thead th {\n",
       "        text-align: right;\n",
       "    }\n",
       "</style>\n",
       "<table border=\"1\" class=\"dataframe\">\n",
       "  <thead>\n",
       "    <tr style=\"text-align: right;\">\n",
       "      <th></th>\n",
       "      <th>genres</th>\n",
       "      <th>app_name</th>\n",
       "      <th>title</th>\n",
       "      <th>release_date</th>\n",
       "      <th>tags</th>\n",
       "      <th>price</th>\n",
       "      <th>id</th>\n",
       "      <th>developer</th>\n",
       "    </tr>\n",
       "  </thead>\n",
       "  <tbody>\n",
       "    <tr>\n",
       "      <th>88390</th>\n",
       "      <td>[Action, Adventure]</td>\n",
       "      <td>Sam &amp; Max 101: Culture Shock</td>\n",
       "      <td>Sam &amp;amp; Max 101: Culture Shock</td>\n",
       "      <td>2006-10-17</td>\n",
       "      <td>[Point &amp; Click, Comedy, Adventure, Detective, ...</td>\n",
       "      <td>19.99</td>\n",
       "      <td>8200.0</td>\n",
       "      <td>Telltale Games</td>\n",
       "    </tr>\n",
       "    <tr>\n",
       "      <th>88393</th>\n",
       "      <td>[Action, Adventure]</td>\n",
       "      <td>Sam &amp; Max 102: Situation: Comedy</td>\n",
       "      <td>Sam &amp;amp; Max 102: Situation: Comedy</td>\n",
       "      <td>2006-12-20</td>\n",
       "      <td>[Adventure, Action]</td>\n",
       "      <td>19.99</td>\n",
       "      <td>8210.0</td>\n",
       "      <td>Telltale Games</td>\n",
       "    </tr>\n",
       "    <tr>\n",
       "      <th>88419</th>\n",
       "      <td>[Strategy]</td>\n",
       "      <td>Command &amp; Conquer: Red Alert 3</td>\n",
       "      <td>Command &amp;amp; Conquer: Red Alert 3</td>\n",
       "      <td>2008-10-28</td>\n",
       "      <td>[Strategy, RTS, Base Building, Multiplayer, Co...</td>\n",
       "      <td>19.99</td>\n",
       "      <td>17480.0</td>\n",
       "      <td>EA Los Angeles</td>\n",
       "    </tr>\n",
       "    <tr>\n",
       "      <th>88492</th>\n",
       "      <td>[Strategy]</td>\n",
       "      <td>Heroes of Might &amp; Magic V: Hammers of Fate</td>\n",
       "      <td>Heroes of Might &amp;amp; Magic V: Hammers of Fate</td>\n",
       "      <td>2006-11-14</td>\n",
       "      <td>[Strategy, Turn-Based Strategy, Turn-Based, Fa...</td>\n",
       "      <td>9.99</td>\n",
       "      <td>15380.0</td>\n",
       "      <td>Nival</td>\n",
       "    </tr>\n",
       "    <tr>\n",
       "      <th>88494</th>\n",
       "      <td>[Strategy]</td>\n",
       "      <td>Heroes of Might &amp; Magic V: Tribes of the East</td>\n",
       "      <td>Heroes of Might &amp;amp; Magic V: Tribes of the East</td>\n",
       "      <td>2007-10-16</td>\n",
       "      <td>[Strategy, Turn-Based Strategy, Turn-Based, Fa...</td>\n",
       "      <td>9.99</td>\n",
       "      <td>15370.0</td>\n",
       "      <td>Nival</td>\n",
       "    </tr>\n",
       "    <tr>\n",
       "      <th>...</th>\n",
       "      <td>...</td>\n",
       "      <td>...</td>\n",
       "      <td>...</td>\n",
       "      <td>...</td>\n",
       "      <td>...</td>\n",
       "      <td>...</td>\n",
       "      <td>...</td>\n",
       "      <td>...</td>\n",
       "    </tr>\n",
       "    <tr>\n",
       "      <th>120181</th>\n",
       "      <td>[Action, Adventure]</td>\n",
       "      <td>Sam &amp; Max 105: Reality 2.0</td>\n",
       "      <td>Sam &amp;amp; Max 105: Reality 2.0</td>\n",
       "      <td>2007-03-29</td>\n",
       "      <td>[Adventure, Action]</td>\n",
       "      <td>19.99</td>\n",
       "      <td>8240.0</td>\n",
       "      <td>Telltale Games</td>\n",
       "    </tr>\n",
       "    <tr>\n",
       "      <th>120182</th>\n",
       "      <td>[Action, Adventure]</td>\n",
       "      <td>Sam &amp; Max 104: Abe Lincoln Must Die!</td>\n",
       "      <td>Sam &amp;amp; Max 104: Abe Lincoln Must Die!</td>\n",
       "      <td>2007-02-22</td>\n",
       "      <td>[Adventure, Action, Point &amp; Click, Free to Pla...</td>\n",
       "      <td>19.99</td>\n",
       "      <td>8230.0</td>\n",
       "      <td>Telltale Games</td>\n",
       "    </tr>\n",
       "    <tr>\n",
       "      <th>120183</th>\n",
       "      <td>[Action, Adventure]</td>\n",
       "      <td>Sam &amp; Max 106: Bright Side of the Moon</td>\n",
       "      <td>Sam &amp;amp; Max 106: Bright Side of the Moon</td>\n",
       "      <td>2007-04-26</td>\n",
       "      <td>[Adventure, Action]</td>\n",
       "      <td>19.99</td>\n",
       "      <td>8250.0</td>\n",
       "      <td>Telltale Games</td>\n",
       "    </tr>\n",
       "    <tr>\n",
       "      <th>120208</th>\n",
       "      <td>[Action, Strategy]</td>\n",
       "      <td>Making History: The Calm &amp; the Storm</td>\n",
       "      <td>Making History: The Calm &amp;amp; the Storm</td>\n",
       "      <td>2007-03-13</td>\n",
       "      <td>[Strategy, Action, Turn-Based Strategy, Grand ...</td>\n",
       "      <td>4.99</td>\n",
       "      <td>6250.0</td>\n",
       "      <td>Muzzy Lane</td>\n",
       "    </tr>\n",
       "    <tr>\n",
       "      <th>120362</th>\n",
       "      <td>[Action, RPG]</td>\n",
       "      <td>Dark Messiah of Might &amp; Magic</td>\n",
       "      <td>Dark Messiah of Might &amp;amp; Magic</td>\n",
       "      <td>2006-10-25</td>\n",
       "      <td>[RPG, Action, First-Person, Fantasy, Adventure...</td>\n",
       "      <td>9.99</td>\n",
       "      <td>2100.0</td>\n",
       "      <td>Arkane Studios</td>\n",
       "    </tr>\n",
       "  </tbody>\n",
       "</table>\n",
       "<p>531 rows × 8 columns</p>\n",
       "</div>"
      ],
      "text/plain": [
       "                     genres                                       app_name  \\\n",
       "88390   [Action, Adventure]                   Sam & Max 101: Culture Shock   \n",
       "88393   [Action, Adventure]               Sam & Max 102: Situation: Comedy   \n",
       "88419            [Strategy]                 Command & Conquer: Red Alert 3   \n",
       "88492            [Strategy]     Heroes of Might & Magic V: Hammers of Fate   \n",
       "88494            [Strategy]  Heroes of Might & Magic V: Tribes of the East   \n",
       "...                     ...                                            ...   \n",
       "120181  [Action, Adventure]                     Sam & Max 105: Reality 2.0   \n",
       "120182  [Action, Adventure]           Sam & Max 104: Abe Lincoln Must Die!   \n",
       "120183  [Action, Adventure]         Sam & Max 106: Bright Side of the Moon   \n",
       "120208   [Action, Strategy]           Making History: The Calm & the Storm   \n",
       "120362        [Action, RPG]                  Dark Messiah of Might & Magic   \n",
       "\n",
       "                                                    title release_date  \\\n",
       "88390                    Sam &amp; Max 101: Culture Shock   2006-10-17   \n",
       "88393                Sam &amp; Max 102: Situation: Comedy   2006-12-20   \n",
       "88419                  Command &amp; Conquer: Red Alert 3   2008-10-28   \n",
       "88492      Heroes of Might &amp; Magic V: Hammers of Fate   2006-11-14   \n",
       "88494   Heroes of Might &amp; Magic V: Tribes of the East   2007-10-16   \n",
       "...                                                   ...          ...   \n",
       "120181                     Sam &amp; Max 105: Reality 2.0   2007-03-29   \n",
       "120182           Sam &amp; Max 104: Abe Lincoln Must Die!   2007-02-22   \n",
       "120183         Sam &amp; Max 106: Bright Side of the Moon   2007-04-26   \n",
       "120208           Making History: The Calm &amp; the Storm   2007-03-13   \n",
       "120362                  Dark Messiah of Might &amp; Magic   2006-10-25   \n",
       "\n",
       "                                                     tags  price       id  \\\n",
       "88390   [Point & Click, Comedy, Adventure, Detective, ...  19.99   8200.0   \n",
       "88393                                 [Adventure, Action]  19.99   8210.0   \n",
       "88419   [Strategy, RTS, Base Building, Multiplayer, Co...  19.99  17480.0   \n",
       "88492   [Strategy, Turn-Based Strategy, Turn-Based, Fa...   9.99  15380.0   \n",
       "88494   [Strategy, Turn-Based Strategy, Turn-Based, Fa...   9.99  15370.0   \n",
       "...                                                   ...    ...      ...   \n",
       "120181                                [Adventure, Action]  19.99   8240.0   \n",
       "120182  [Adventure, Action, Point & Click, Free to Pla...  19.99   8230.0   \n",
       "120183                                [Adventure, Action]  19.99   8250.0   \n",
       "120208  [Strategy, Action, Turn-Based Strategy, Grand ...   4.99   6250.0   \n",
       "120362  [RPG, Action, First-Person, Fantasy, Adventure...   9.99   2100.0   \n",
       "\n",
       "             developer  \n",
       "88390   Telltale Games  \n",
       "88393   Telltale Games  \n",
       "88419   EA Los Angeles  \n",
       "88492            Nival  \n",
       "88494            Nival  \n",
       "...                ...  \n",
       "120181  Telltale Games  \n",
       "120182  Telltale Games  \n",
       "120183  Telltale Games  \n",
       "120208      Muzzy Lane  \n",
       "120362  Arkane Studios  \n",
       "\n",
       "[531 rows x 8 columns]"
      ]
     },
     "execution_count": 49,
     "metadata": {},
     "output_type": "execute_result"
    }
   ],
   "source": [
    "df_games[df_games['app_name']!=df_games['title']]"
   ]
  },
  {
   "cell_type": "markdown",
   "metadata": {},
   "source": [
    "Se va a eliminar la columna *title* debido a la cantidad de erroes basado solo con una simple inspección visual"
   ]
  },
  {
   "cell_type": "code",
   "execution_count": 50,
   "metadata": {},
   "outputs": [],
   "source": [
    "df_games.drop('title',axis=1,inplace=True)"
   ]
  },
  {
   "cell_type": "code",
   "execution_count": 51,
   "metadata": {},
   "outputs": [
    {
     "name": "stdout",
     "output_type": "stream",
     "text": [
      "<class 'pandas.core.frame.DataFrame'>\n",
      "Index: 27449 entries, 88310 to 120443\n",
      "Data columns (total 7 columns):\n",
      " #   Column        Non-Null Count  Dtype  \n",
      "---  ------        --------------  -----  \n",
      " 0   genres        27449 non-null  object \n",
      " 1   app_name      27449 non-null  object \n",
      " 2   release_date  27449 non-null  object \n",
      " 3   tags          27449 non-null  object \n",
      " 4   price         27449 non-null  object \n",
      " 5   id            27449 non-null  float64\n",
      " 6   developer     27449 non-null  object \n",
      "dtypes: float64(1), object(6)\n",
      "memory usage: 1.7+ MB\n"
     ]
    }
   ],
   "source": [
    "df_games.info()"
   ]
  },
  {
   "cell_type": "markdown",
   "metadata": {},
   "source": [
    "Se verificara que no haya duplicados en las columnas"
   ]
  },
  {
   "cell_type": "code",
   "execution_count": 52,
   "metadata": {},
   "outputs": [
    {
     "data": {
      "text/plain": [
       "1"
      ]
     },
     "execution_count": 52,
     "metadata": {},
     "output_type": "execute_result"
    }
   ],
   "source": [
    "df_games['id'].duplicated().sum()"
   ]
  },
  {
   "cell_type": "code",
   "execution_count": 53,
   "metadata": {},
   "outputs": [],
   "source": [
    "df_games.drop_duplicates(subset='id',inplace=True)"
   ]
  },
  {
   "cell_type": "markdown",
   "metadata": {},
   "source": [
    "A la hora de elimnar duplicados en los nombres de las aplicaciones debemos tener cuidado que no pertenezcan a diferentes desarrolladores por lo que solo eliminaremos los duplicados que tambienpertenezcan a los mismos desarrolladores."
   ]
  },
  {
   "cell_type": "code",
   "execution_count": 56,
   "metadata": {},
   "outputs": [
    {
     "data": {
      "text/html": [
       "<div>\n",
       "<style scoped>\n",
       "    .dataframe tbody tr th:only-of-type {\n",
       "        vertical-align: middle;\n",
       "    }\n",
       "\n",
       "    .dataframe tbody tr th {\n",
       "        vertical-align: top;\n",
       "    }\n",
       "\n",
       "    .dataframe thead th {\n",
       "        text-align: right;\n",
       "    }\n",
       "</style>\n",
       "<table border=\"1\" class=\"dataframe\">\n",
       "  <thead>\n",
       "    <tr style=\"text-align: right;\">\n",
       "      <th></th>\n",
       "      <th>genres</th>\n",
       "      <th>app_name</th>\n",
       "      <th>release_date</th>\n",
       "      <th>tags</th>\n",
       "      <th>price</th>\n",
       "      <th>id</th>\n",
       "      <th>developer</th>\n",
       "    </tr>\n",
       "  </thead>\n",
       "  <tbody>\n",
       "    <tr>\n",
       "      <th>92750</th>\n",
       "      <td>[Adventure, Indie]</td>\n",
       "      <td>Invisible Apartment 2</td>\n",
       "      <td>2015-09-24</td>\n",
       "      <td>[Adventure, Indie, Visual Novel, Anime, Hackin...</td>\n",
       "      <td>7.99</td>\n",
       "      <td>401200.0</td>\n",
       "      <td>Milan Kazarka,Jeroen van Oosten</td>\n",
       "    </tr>\n",
       "    <tr>\n",
       "      <th>96427</th>\n",
       "      <td>[Sports]</td>\n",
       "      <td>Total Extreme Wrestling</td>\n",
       "      <td>2016-12-02</td>\n",
       "      <td>[Sports, Wrestling, Management]</td>\n",
       "      <td>19.99</td>\n",
       "      <td>529700.0</td>\n",
       "      <td>Grey Dog Software</td>\n",
       "    </tr>\n",
       "    <tr>\n",
       "      <th>101465</th>\n",
       "      <td>[Casual, Indie, Simulation]</td>\n",
       "      <td>MORE SWEATER? OK!</td>\n",
       "      <td>2017-12-19</td>\n",
       "      <td>[Indie, Casual, Simulation]</td>\n",
       "      <td>0.99</td>\n",
       "      <td>773080.0</td>\n",
       "      <td>Triple-Star Studio</td>\n",
       "    </tr>\n",
       "    <tr>\n",
       "      <th>109299</th>\n",
       "      <td>[Adventure, Free to Play, Indie]</td>\n",
       "      <td>Invisible Apartment 2</td>\n",
       "      <td>2016-10-17</td>\n",
       "      <td>[Adventure, Indie, Free to Play, Visual Novel,...</td>\n",
       "      <td>7.99</td>\n",
       "      <td>543220.0</td>\n",
       "      <td>Milan Kazarka,Jeroen van Oosten</td>\n",
       "    </tr>\n",
       "    <tr>\n",
       "      <th>115399</th>\n",
       "      <td>[Simulation, Sports]</td>\n",
       "      <td>Total Extreme Wrestling</td>\n",
       "      <td>2015-03-19</td>\n",
       "      <td>[Wrestling, Simulation, Sports, Management]</td>\n",
       "      <td>19.99</td>\n",
       "      <td>344810.0</td>\n",
       "      <td>Grey Dog Software</td>\n",
       "    </tr>\n",
       "    <tr>\n",
       "      <th>120307</th>\n",
       "      <td>[Action, Casual, Indie, RPG, Simulation]</td>\n",
       "      <td>MORE SWEATER? OK!</td>\n",
       "      <td>2017-12-29</td>\n",
       "      <td>[Casual, Action, Indie, RPG, Simulation, Singl...</td>\n",
       "      <td>1.99</td>\n",
       "      <td>746050.0</td>\n",
       "      <td>Triple-Star Studio</td>\n",
       "    </tr>\n",
       "  </tbody>\n",
       "</table>\n",
       "</div>"
      ],
      "text/plain": [
       "                                          genres                 app_name  \\\n",
       "92750                         [Adventure, Indie]    Invisible Apartment 2   \n",
       "96427                                   [Sports]  Total Extreme Wrestling   \n",
       "101465               [Casual, Indie, Simulation]        MORE SWEATER? OK!   \n",
       "109299          [Adventure, Free to Play, Indie]    Invisible Apartment 2   \n",
       "115399                      [Simulation, Sports]  Total Extreme Wrestling   \n",
       "120307  [Action, Casual, Indie, RPG, Simulation]        MORE SWEATER? OK!   \n",
       "\n",
       "       release_date                                               tags  price  \\\n",
       "92750    2015-09-24  [Adventure, Indie, Visual Novel, Anime, Hackin...   7.99   \n",
       "96427    2016-12-02                    [Sports, Wrestling, Management]  19.99   \n",
       "101465   2017-12-19                        [Indie, Casual, Simulation]   0.99   \n",
       "109299   2016-10-17  [Adventure, Indie, Free to Play, Visual Novel,...   7.99   \n",
       "115399   2015-03-19        [Wrestling, Simulation, Sports, Management]  19.99   \n",
       "120307   2017-12-29  [Casual, Action, Indie, RPG, Simulation, Singl...   1.99   \n",
       "\n",
       "              id                        developer  \n",
       "92750   401200.0  Milan Kazarka,Jeroen van Oosten  \n",
       "96427   529700.0                Grey Dog Software  \n",
       "101465  773080.0               Triple-Star Studio  \n",
       "109299  543220.0  Milan Kazarka,Jeroen van Oosten  \n",
       "115399  344810.0                Grey Dog Software  \n",
       "120307  746050.0               Triple-Star Studio  "
      ]
     },
     "execution_count": 56,
     "metadata": {},
     "output_type": "execute_result"
    }
   ],
   "source": [
    "df_games[df_games[['app_name','developer']].duplicated(keep=False)]"
   ]
  },
  {
   "cell_type": "code",
   "execution_count": 57,
   "metadata": {},
   "outputs": [],
   "source": [
    "df_games.drop_duplicates(subset=['app_name','developer'],inplace=True)"
   ]
  },
  {
   "cell_type": "code",
   "execution_count": 58,
   "metadata": {},
   "outputs": [
    {
     "data": {
      "text/plain": [
       "0"
      ]
     },
     "execution_count": 58,
     "metadata": {},
     "output_type": "execute_result"
    }
   ],
   "source": [
    "df_games[['app_name','developer']].duplicated().sum()"
   ]
  },
  {
   "cell_type": "markdown",
   "metadata": {},
   "source": [
    "Se modificará el campo *release_date* ya que solo se necesita el año por lo que se procede a crear una función para modificar esta columna"
   ]
  },
  {
   "cell_type": "code",
   "execution_count": 59,
   "metadata": {},
   "outputs": [],
   "source": [
    "#ESe eliminan los valores SOON, SOON™ y coming soon de la columna 'release_date' que son juegos que están por salir\n",
    "# Se crea una lista con los valores a eliminar\n",
    "valores = ['SOON', 'SOON™','coming soon']\n",
    "\n",
    "# Eliminar las filas donde 'release_date' es 'SOON' o 'SOON™'\n",
    "df_games = df_games[~df_games['release_date'].isin(valores)]"
   ]
  },
  {
   "cell_type": "code",
   "execution_count": 60,
   "metadata": {},
   "outputs": [],
   "source": [
    "#Se crea un función para extraer los 4 primeros o ultimos caracteres de la columna 'release_date'\n",
    "def extract_four_numbers(s):\n",
    "    if re.match('^\\\\d{4}', s):\n",
    "        return s[:4]  \n",
    "    else:\n",
    "        return s[-4:]  \n",
    "\n",
    "# Aplica la función a la columna 'release_date' y crea una nueva columna 'release_year'\n",
    "df_games['release_year'] = df_games['release_date'].apply(extract_four_numbers)"
   ]
  },
  {
   "cell_type": "markdown",
   "metadata": {},
   "source": [
    "Se elimina la columna *release_date* ya que es innecesaria."
   ]
  },
  {
   "cell_type": "code",
   "execution_count": 61,
   "metadata": {},
   "outputs": [],
   "source": [
    "df_games.drop('release_date',axis=1,inplace=True)"
   ]
  },
  {
   "cell_type": "markdown",
   "metadata": {},
   "source": [
    "Ahora se va a modificar la columna *price* para cambiar los strings de *free to play* a 0."
   ]
  },
  {
   "cell_type": "code",
   "execution_count": 62,
   "metadata": {},
   "outputs": [],
   "source": [
    "df_games['price'] = df_games['price'].apply(lambda x: 0 if isinstance(x, str) else x)"
   ]
  },
  {
   "cell_type": "markdown",
   "metadata": {},
   "source": [
    "Se verifica que no haya mas strings."
   ]
  },
  {
   "cell_type": "code",
   "execution_count": 63,
   "metadata": {},
   "outputs": [
    {
     "data": {
      "text/plain": [
       "price\n",
       "<class 'float'>    27442\n",
       "Name: count, dtype: int64"
      ]
     },
     "execution_count": 63,
     "metadata": {},
     "output_type": "execute_result"
    }
   ],
   "source": [
    "df_games['price'].apply(type).value_counts()"
   ]
  },
  {
   "cell_type": "markdown",
   "metadata": {},
   "source": [
    "Se normanliza *app_name* y *developer* pcon la funcion title()"
   ]
  },
  {
   "cell_type": "code",
   "execution_count": 64,
   "metadata": {},
   "outputs": [],
   "source": [
    "df_games['app_name']=df_games['app_name'].apply(lambda x: x.title())"
   ]
  },
  {
   "cell_type": "code",
   "execution_count": 65,
   "metadata": {},
   "outputs": [],
   "source": [
    "df_games['developer']=df_games['developer'].apply(lambda x: x.title())"
   ]
  },
  {
   "cell_type": "markdown",
   "metadata": {},
   "source": [
    "Se proceden a cambiar los tipos de datos para que esten acordes a los datos de las columnas.\n"
   ]
  },
  {
   "cell_type": "code",
   "execution_count": 66,
   "metadata": {},
   "outputs": [
    {
     "data": {
      "text/plain": [
       "2028850.0"
      ]
     },
     "execution_count": 66,
     "metadata": {},
     "output_type": "execute_result"
    }
   ],
   "source": [
    "#Primero se verifica el valor maximo de la columna id\n",
    "df_games['id'].max()"
   ]
  },
  {
   "cell_type": "code",
   "execution_count": 67,
   "metadata": {},
   "outputs": [],
   "source": [
    "df_games[['id', 'price']] = df_games[['id', 'price']].astype({'id': 'int32', 'price': 'float16'})"
   ]
  },
  {
   "cell_type": "code",
   "execution_count": 68,
   "metadata": {},
   "outputs": [],
   "source": [
    "df_games['price']=df_games['price'].apply(lambda x: round(x,2))"
   ]
  },
  {
   "cell_type": "markdown",
   "metadata": {},
   "source": [
    "Se guardan los datos limpios en formato parquet."
   ]
  },
  {
   "cell_type": "code",
   "execution_count": 69,
   "metadata": {},
   "outputs": [],
   "source": [
    "df_games.to_parquet(r'Datasets\\steam_games_clean.parquet',index=False)"
   ]
  },
  {
   "cell_type": "markdown",
   "metadata": {},
   "source": [
    "## Análisis del archivo users_items"
   ]
  },
  {
   "cell_type": "code",
   "execution_count": 6,
   "metadata": {},
   "outputs": [],
   "source": [
    "data1 = []\n",
    "\n",
    "with gzip.open(r'E:\\Data Science\\PI1\\Datasets\\users_items.json.gz', 'rt', encoding='utf-8') as file:\n",
    "    for line in file:\n",
    "        try:\n",
    "            json_data = ast.literal_eval(line)\n",
    "            data1.append(json_data)\n",
    "        except ValueError as e:\n",
    "            print(f\"Error en la línea: {line}\")\n",
    "            continue\n",
    "\n",
    "df_users = pd.DataFrame(data1)"
   ]
  },
  {
   "cell_type": "code",
   "execution_count": 7,
   "metadata": {},
   "outputs": [
    {
     "data": {
      "text/html": [
       "<div>\n",
       "<style scoped>\n",
       "    .dataframe tbody tr th:only-of-type {\n",
       "        vertical-align: middle;\n",
       "    }\n",
       "\n",
       "    .dataframe tbody tr th {\n",
       "        vertical-align: top;\n",
       "    }\n",
       "\n",
       "    .dataframe thead th {\n",
       "        text-align: right;\n",
       "    }\n",
       "</style>\n",
       "<table border=\"1\" class=\"dataframe\">\n",
       "  <thead>\n",
       "    <tr style=\"text-align: right;\">\n",
       "      <th></th>\n",
       "      <th>user_id</th>\n",
       "      <th>items_count</th>\n",
       "      <th>steam_id</th>\n",
       "      <th>user_url</th>\n",
       "      <th>items</th>\n",
       "    </tr>\n",
       "  </thead>\n",
       "  <tbody>\n",
       "    <tr>\n",
       "      <th>0</th>\n",
       "      <td>76561197970982479</td>\n",
       "      <td>277</td>\n",
       "      <td>76561197970982479</td>\n",
       "      <td>http://steamcommunity.com/profiles/76561197970...</td>\n",
       "      <td>[{'item_id': '10', 'item_name': 'Counter-Strik...</td>\n",
       "    </tr>\n",
       "    <tr>\n",
       "      <th>1</th>\n",
       "      <td>js41637</td>\n",
       "      <td>888</td>\n",
       "      <td>76561198035864385</td>\n",
       "      <td>http://steamcommunity.com/id/js41637</td>\n",
       "      <td>[{'item_id': '10', 'item_name': 'Counter-Strik...</td>\n",
       "    </tr>\n",
       "    <tr>\n",
       "      <th>2</th>\n",
       "      <td>evcentric</td>\n",
       "      <td>137</td>\n",
       "      <td>76561198007712555</td>\n",
       "      <td>http://steamcommunity.com/id/evcentric</td>\n",
       "      <td>[{'item_id': '1200', 'item_name': 'Red Orchest...</td>\n",
       "    </tr>\n",
       "    <tr>\n",
       "      <th>3</th>\n",
       "      <td>Riot-Punch</td>\n",
       "      <td>328</td>\n",
       "      <td>76561197963445855</td>\n",
       "      <td>http://steamcommunity.com/id/Riot-Punch</td>\n",
       "      <td>[{'item_id': '10', 'item_name': 'Counter-Strik...</td>\n",
       "    </tr>\n",
       "    <tr>\n",
       "      <th>4</th>\n",
       "      <td>doctr</td>\n",
       "      <td>541</td>\n",
       "      <td>76561198002099482</td>\n",
       "      <td>http://steamcommunity.com/id/doctr</td>\n",
       "      <td>[{'item_id': '300', 'item_name': 'Day of Defea...</td>\n",
       "    </tr>\n",
       "    <tr>\n",
       "      <th>...</th>\n",
       "      <td>...</td>\n",
       "      <td>...</td>\n",
       "      <td>...</td>\n",
       "      <td>...</td>\n",
       "      <td>...</td>\n",
       "    </tr>\n",
       "    <tr>\n",
       "      <th>88305</th>\n",
       "      <td>76561198323066619</td>\n",
       "      <td>22</td>\n",
       "      <td>76561198323066619</td>\n",
       "      <td>http://steamcommunity.com/profiles/76561198323...</td>\n",
       "      <td>[{'item_id': '413850', 'item_name': 'CS:GO Pla...</td>\n",
       "    </tr>\n",
       "    <tr>\n",
       "      <th>88306</th>\n",
       "      <td>76561198326700687</td>\n",
       "      <td>177</td>\n",
       "      <td>76561198326700687</td>\n",
       "      <td>http://steamcommunity.com/profiles/76561198326...</td>\n",
       "      <td>[{'item_id': '11020', 'item_name': 'TrackMania...</td>\n",
       "    </tr>\n",
       "    <tr>\n",
       "      <th>88307</th>\n",
       "      <td>XxLaughingJackClown77xX</td>\n",
       "      <td>0</td>\n",
       "      <td>76561198328759259</td>\n",
       "      <td>http://steamcommunity.com/id/XxLaughingJackClo...</td>\n",
       "      <td>[]</td>\n",
       "    </tr>\n",
       "    <tr>\n",
       "      <th>88308</th>\n",
       "      <td>76561198329548331</td>\n",
       "      <td>7</td>\n",
       "      <td>76561198329548331</td>\n",
       "      <td>http://steamcommunity.com/profiles/76561198329...</td>\n",
       "      <td>[{'item_id': '304930', 'item_name': 'Unturned'...</td>\n",
       "    </tr>\n",
       "    <tr>\n",
       "      <th>88309</th>\n",
       "      <td>edward_tremethick</td>\n",
       "      <td>0</td>\n",
       "      <td>76561198331598578</td>\n",
       "      <td>http://steamcommunity.com/id/edward_tremethick</td>\n",
       "      <td>[]</td>\n",
       "    </tr>\n",
       "  </tbody>\n",
       "</table>\n",
       "<p>88310 rows × 5 columns</p>\n",
       "</div>"
      ],
      "text/plain": [
       "                       user_id  items_count           steam_id  \\\n",
       "0            76561197970982479          277  76561197970982479   \n",
       "1                      js41637          888  76561198035864385   \n",
       "2                    evcentric          137  76561198007712555   \n",
       "3                   Riot-Punch          328  76561197963445855   \n",
       "4                        doctr          541  76561198002099482   \n",
       "...                        ...          ...                ...   \n",
       "88305        76561198323066619           22  76561198323066619   \n",
       "88306        76561198326700687          177  76561198326700687   \n",
       "88307  XxLaughingJackClown77xX            0  76561198328759259   \n",
       "88308        76561198329548331            7  76561198329548331   \n",
       "88309        edward_tremethick            0  76561198331598578   \n",
       "\n",
       "                                                user_url  \\\n",
       "0      http://steamcommunity.com/profiles/76561197970...   \n",
       "1                   http://steamcommunity.com/id/js41637   \n",
       "2                 http://steamcommunity.com/id/evcentric   \n",
       "3                http://steamcommunity.com/id/Riot-Punch   \n",
       "4                     http://steamcommunity.com/id/doctr   \n",
       "...                                                  ...   \n",
       "88305  http://steamcommunity.com/profiles/76561198323...   \n",
       "88306  http://steamcommunity.com/profiles/76561198326...   \n",
       "88307  http://steamcommunity.com/id/XxLaughingJackClo...   \n",
       "88308  http://steamcommunity.com/profiles/76561198329...   \n",
       "88309     http://steamcommunity.com/id/edward_tremethick   \n",
       "\n",
       "                                                   items  \n",
       "0      [{'item_id': '10', 'item_name': 'Counter-Strik...  \n",
       "1      [{'item_id': '10', 'item_name': 'Counter-Strik...  \n",
       "2      [{'item_id': '1200', 'item_name': 'Red Orchest...  \n",
       "3      [{'item_id': '10', 'item_name': 'Counter-Strik...  \n",
       "4      [{'item_id': '300', 'item_name': 'Day of Defea...  \n",
       "...                                                  ...  \n",
       "88305  [{'item_id': '413850', 'item_name': 'CS:GO Pla...  \n",
       "88306  [{'item_id': '11020', 'item_name': 'TrackMania...  \n",
       "88307                                                 []  \n",
       "88308  [{'item_id': '304930', 'item_name': 'Unturned'...  \n",
       "88309                                                 []  \n",
       "\n",
       "[88310 rows x 5 columns]"
      ]
     },
     "execution_count": 7,
     "metadata": {},
     "output_type": "execute_result"
    }
   ],
   "source": [
    "df_users"
   ]
  },
  {
   "cell_type": "code",
   "execution_count": 8,
   "metadata": {},
   "outputs": [
    {
     "name": "stdout",
     "output_type": "stream",
     "text": [
      "<class 'pandas.core.frame.DataFrame'>\n",
      "RangeIndex: 88310 entries, 0 to 88309\n",
      "Data columns (total 5 columns):\n",
      " #   Column       Non-Null Count  Dtype \n",
      "---  ------       --------------  ----- \n",
      " 0   user_id      88310 non-null  object\n",
      " 1   items_count  88310 non-null  int64 \n",
      " 2   steam_id     88310 non-null  object\n",
      " 3   user_url     88310 non-null  object\n",
      " 4   items        88310 non-null  object\n",
      "dtypes: int64(1), object(4)\n",
      "memory usage: 3.4+ MB\n"
     ]
    }
   ],
   "source": [
    "df_users.info()"
   ]
  },
  {
   "cell_type": "markdown",
   "metadata": {},
   "source": [
    "En primer lugar se elimninan las columnas que no brindan información como *steam_id* y *user_url*."
   ]
  },
  {
   "cell_type": "code",
   "execution_count": 9,
   "metadata": {},
   "outputs": [],
   "source": [
    "df_users.drop(['steam_id','user_url'],axis=1,inplace=True)"
   ]
  },
  {
   "cell_type": "markdown",
   "metadata": {},
   "source": [
    "Se desanidan el campo items"
   ]
  },
  {
   "cell_type": "code",
   "execution_count": 10,
   "metadata": {},
   "outputs": [],
   "source": [
    "#Se expnade el json que esta en la columna 'items'\n",
    "df_expandido=df_users.explode('items')\n",
    "\n",
    "#Se normaliza ese dataframe\n",
    "df_descompuesto=pd.json_normalize(df_expandido['items'])\n",
    "\n",
    "#Se elimina las columnas que no se van a utilizar\n",
    "df_descompuesto.drop(['item_name','playtime_2weeks'],axis=1,inplace=True)\n",
    "\n",
    "#Se unen los dos dataframes anteriores\n",
    "df_final=pd.concat([df_expandido.reset_index(drop=True), df_descompuesto.reset_index(drop=True)], axis=1)\n",
    "\n",
    "#Se elimina la columna que se expandió\n",
    "df_users=df_final.drop('items', axis=1)"
   ]
  },
  {
   "cell_type": "markdown",
   "metadata": {},
   "source": [
    "Se ve el la gran cantidad de registros que posee el dataframe por lo que es indispensable reducirlo para utilizar solo lo que se necesita"
   ]
  },
  {
   "cell_type": "code",
   "execution_count": 11,
   "metadata": {},
   "outputs": [
    {
     "name": "stdout",
     "output_type": "stream",
     "text": [
      "<class 'pandas.core.frame.DataFrame'>\n",
      "RangeIndex: 5170015 entries, 0 to 5170014\n",
      "Data columns (total 4 columns):\n",
      " #   Column            Dtype  \n",
      "---  ------            -----  \n",
      " 0   user_id           object \n",
      " 1   items_count       int64  \n",
      " 2   item_id           object \n",
      " 3   playtime_forever  float64\n",
      "dtypes: float64(1), int64(1), object(2)\n",
      "memory usage: 157.8+ MB\n"
     ]
    }
   ],
   "source": [
    "df_users.info()"
   ]
  },
  {
   "cell_type": "code",
   "execution_count": 12,
   "metadata": {},
   "outputs": [
    {
     "data": {
      "text/plain": [
       "user_id                 0\n",
       "items_count             0\n",
       "item_id             16806\n",
       "playtime_forever    16806\n",
       "dtype: int64"
      ]
     },
     "execution_count": 12,
     "metadata": {},
     "output_type": "execute_result"
    }
   ],
   "source": [
    "df_users.isnull().sum()"
   ]
  },
  {
   "cell_type": "markdown",
   "metadata": {},
   "source": [
    "Si no se tiene el id del juego va a ser imosible relacionarlo con otro dataset que tenga los id de los juegos por lo que los valores faltantes se van a tener que eliminar"
   ]
  },
  {
   "cell_type": "code",
   "execution_count": 13,
   "metadata": {},
   "outputs": [],
   "source": [
    "df_users.dropna(subset='item_id',inplace=True)"
   ]
  },
  {
   "cell_type": "markdown",
   "metadata": {},
   "source": [
    "Se analiza los datos de las horas de juegos para buscar valores atípicos"
   ]
  },
  {
   "cell_type": "code",
   "execution_count": 14,
   "metadata": {},
   "outputs": [
    {
     "data": {
      "text/plain": [
       "count    5.153209e+06\n",
       "mean     9.914951e+02\n",
       "std      5.418204e+03\n",
       "min      0.000000e+00\n",
       "25%      0.000000e+00\n",
       "50%      3.400000e+01\n",
       "75%      3.550000e+02\n",
       "max      6.427730e+05\n",
       "Name: playtime_forever, dtype: float64"
      ]
     },
     "execution_count": 14,
     "metadata": {},
     "output_type": "execute_result"
    }
   ],
   "source": [
    "df_users['playtime_forever'].describe()"
   ]
  },
  {
   "cell_type": "markdown",
   "metadata": {},
   "source": [
    "Se eliminan el 25 porciento de los datos del 4º cuartil porque el estudio se va a centrar en los valores más usuales dentro de los gamers, es importante notar como la media está más a la derecha que la mediana"
   ]
  },
  {
   "cell_type": "code",
   "execution_count": 40,
   "metadata": {},
   "outputs": [],
   "source": [
    "df_users=df_users[df_users['playtime_forever']<=355]"
   ]
  },
  {
   "cell_type": "code",
   "execution_count": 43,
   "metadata": {},
   "outputs": [],
   "source": [
    "df_users=df_users.astype({'item_id':'int32','playtime_forever':'float16', 'items_count':'int16'})"
   ]
  },
  {
   "cell_type": "markdown",
   "metadata": {},
   "source": [
    "Es clara la diferencia entre el dataframe al princio y el dataframe al final donde se redujo considerablemente el uso de la ram el cual va a ser un factor importante para el desempeño en Render"
   ]
  },
  {
   "cell_type": "code",
   "execution_count": 45,
   "metadata": {},
   "outputs": [
    {
     "name": "stdout",
     "output_type": "stream",
     "text": [
      "<class 'pandas.core.frame.DataFrame'>\n",
      "Index: 3865427 entries, 0 to 5170013\n",
      "Data columns (total 4 columns):\n",
      " #   Column            Dtype  \n",
      "---  ------            -----  \n",
      " 0   user_id           object \n",
      " 1   items_count       int16  \n",
      " 2   item_id           int32  \n",
      " 3   playtime_forever  float16\n",
      "dtypes: float16(1), int16(1), int32(1), object(1)\n",
      "memory usage: 88.5+ MB\n"
     ]
    }
   ],
   "source": [
    "df_users.info()"
   ]
  },
  {
   "cell_type": "code",
   "execution_count": 46,
   "metadata": {},
   "outputs": [],
   "source": [
    "df_users.to_parquet(r'Datasets\\users_items_clean.parquet',index=False)"
   ]
  },
  {
   "cell_type": "markdown",
   "metadata": {},
   "source": [
    "## Análisis del archivo user_revies"
   ]
  },
  {
   "cell_type": "code",
   "execution_count": 47,
   "metadata": {},
   "outputs": [],
   "source": [
    "data2=[]\n",
    "\n",
    "with gzip.open(r'E:\\Data Science\\PI1\\Datasets\\user_reviews.json.gz', 'rt', encoding='utf-8') as file:\n",
    "    for line in file:\n",
    "        try:\n",
    "            json_data = ast.literal_eval(line)\n",
    "            data2.append(json_data)\n",
    "        except ValueError as e:\n",
    "            print(f\"Error en la línea: {line}\")\n",
    "            continue\n",
    "\n",
    "df_reviews = pd.DataFrame(data2)"
   ]
  },
  {
   "cell_type": "code",
   "execution_count": 48,
   "metadata": {},
   "outputs": [
    {
     "data": {
      "text/html": [
       "<div>\n",
       "<style scoped>\n",
       "    .dataframe tbody tr th:only-of-type {\n",
       "        vertical-align: middle;\n",
       "    }\n",
       "\n",
       "    .dataframe tbody tr th {\n",
       "        vertical-align: top;\n",
       "    }\n",
       "\n",
       "    .dataframe thead th {\n",
       "        text-align: right;\n",
       "    }\n",
       "</style>\n",
       "<table border=\"1\" class=\"dataframe\">\n",
       "  <thead>\n",
       "    <tr style=\"text-align: right;\">\n",
       "      <th></th>\n",
       "      <th>user_id</th>\n",
       "      <th>user_url</th>\n",
       "      <th>reviews</th>\n",
       "    </tr>\n",
       "  </thead>\n",
       "  <tbody>\n",
       "    <tr>\n",
       "      <th>0</th>\n",
       "      <td>76561197970982479</td>\n",
       "      <td>http://steamcommunity.com/profiles/76561197970...</td>\n",
       "      <td>[{'funny': '', 'posted': 'Posted November 5, 2...</td>\n",
       "    </tr>\n",
       "    <tr>\n",
       "      <th>1</th>\n",
       "      <td>js41637</td>\n",
       "      <td>http://steamcommunity.com/id/js41637</td>\n",
       "      <td>[{'funny': '', 'posted': 'Posted June 24, 2014...</td>\n",
       "    </tr>\n",
       "    <tr>\n",
       "      <th>2</th>\n",
       "      <td>evcentric</td>\n",
       "      <td>http://steamcommunity.com/id/evcentric</td>\n",
       "      <td>[{'funny': '', 'posted': 'Posted February 3.',...</td>\n",
       "    </tr>\n",
       "    <tr>\n",
       "      <th>3</th>\n",
       "      <td>doctr</td>\n",
       "      <td>http://steamcommunity.com/id/doctr</td>\n",
       "      <td>[{'funny': '', 'posted': 'Posted October 14, 2...</td>\n",
       "    </tr>\n",
       "    <tr>\n",
       "      <th>4</th>\n",
       "      <td>maplemage</td>\n",
       "      <td>http://steamcommunity.com/id/maplemage</td>\n",
       "      <td>[{'funny': '3 people found this review funny',...</td>\n",
       "    </tr>\n",
       "    <tr>\n",
       "      <th>...</th>\n",
       "      <td>...</td>\n",
       "      <td>...</td>\n",
       "      <td>...</td>\n",
       "    </tr>\n",
       "    <tr>\n",
       "      <th>25794</th>\n",
       "      <td>76561198306599751</td>\n",
       "      <td>http://steamcommunity.com/profiles/76561198306...</td>\n",
       "      <td>[{'funny': '', 'posted': 'Posted May 31.', 'la...</td>\n",
       "    </tr>\n",
       "    <tr>\n",
       "      <th>25795</th>\n",
       "      <td>Ghoustik</td>\n",
       "      <td>http://steamcommunity.com/id/Ghoustik</td>\n",
       "      <td>[{'funny': '', 'posted': 'Posted June 17.', 'l...</td>\n",
       "    </tr>\n",
       "    <tr>\n",
       "      <th>25796</th>\n",
       "      <td>76561198310819422</td>\n",
       "      <td>http://steamcommunity.com/profiles/76561198310...</td>\n",
       "      <td>[{'funny': '1 person found this review funny',...</td>\n",
       "    </tr>\n",
       "    <tr>\n",
       "      <th>25797</th>\n",
       "      <td>76561198312638244</td>\n",
       "      <td>http://steamcommunity.com/profiles/76561198312...</td>\n",
       "      <td>[{'funny': '', 'posted': 'Posted July 21.', 'l...</td>\n",
       "    </tr>\n",
       "    <tr>\n",
       "      <th>25798</th>\n",
       "      <td>LydiaMorley</td>\n",
       "      <td>http://steamcommunity.com/id/LydiaMorley</td>\n",
       "      <td>[{'funny': '1 person found this review funny',...</td>\n",
       "    </tr>\n",
       "  </tbody>\n",
       "</table>\n",
       "<p>25799 rows × 3 columns</p>\n",
       "</div>"
      ],
      "text/plain": [
       "                 user_id                                           user_url  \\\n",
       "0      76561197970982479  http://steamcommunity.com/profiles/76561197970...   \n",
       "1                js41637               http://steamcommunity.com/id/js41637   \n",
       "2              evcentric             http://steamcommunity.com/id/evcentric   \n",
       "3                  doctr                 http://steamcommunity.com/id/doctr   \n",
       "4              maplemage             http://steamcommunity.com/id/maplemage   \n",
       "...                  ...                                                ...   \n",
       "25794  76561198306599751  http://steamcommunity.com/profiles/76561198306...   \n",
       "25795           Ghoustik              http://steamcommunity.com/id/Ghoustik   \n",
       "25796  76561198310819422  http://steamcommunity.com/profiles/76561198310...   \n",
       "25797  76561198312638244  http://steamcommunity.com/profiles/76561198312...   \n",
       "25798        LydiaMorley           http://steamcommunity.com/id/LydiaMorley   \n",
       "\n",
       "                                                 reviews  \n",
       "0      [{'funny': '', 'posted': 'Posted November 5, 2...  \n",
       "1      [{'funny': '', 'posted': 'Posted June 24, 2014...  \n",
       "2      [{'funny': '', 'posted': 'Posted February 3.',...  \n",
       "3      [{'funny': '', 'posted': 'Posted October 14, 2...  \n",
       "4      [{'funny': '3 people found this review funny',...  \n",
       "...                                                  ...  \n",
       "25794  [{'funny': '', 'posted': 'Posted May 31.', 'la...  \n",
       "25795  [{'funny': '', 'posted': 'Posted June 17.', 'l...  \n",
       "25796  [{'funny': '1 person found this review funny',...  \n",
       "25797  [{'funny': '', 'posted': 'Posted July 21.', 'l...  \n",
       "25798  [{'funny': '1 person found this review funny',...  \n",
       "\n",
       "[25799 rows x 3 columns]"
      ]
     },
     "execution_count": 48,
     "metadata": {},
     "output_type": "execute_result"
    }
   ],
   "source": [
    "df_reviews"
   ]
  },
  {
   "cell_type": "markdown",
   "metadata": {},
   "source": [
    "Se elimina la columna *user_url* y luego se desanida la columna review"
   ]
  },
  {
   "cell_type": "code",
   "execution_count": 49,
   "metadata": {},
   "outputs": [],
   "source": [
    "df_reviews.drop('user_url',axis=1,inplace=True)"
   ]
  },
  {
   "cell_type": "code",
   "execution_count": 54,
   "metadata": {},
   "outputs": [],
   "source": [
    "#Se expnade el json que esta en la columna 'reviews'\n",
    "df_expandido=df_reviews.explode('reviews')\n",
    "\n",
    "#Se normaliza ese dataframe\n",
    "df_descompuesto=pd.json_normalize(df_expandido['reviews'])\n",
    "\n",
    "#Se elimina las columnas que no se van a utilizar\n",
    "df_descompuesto.drop(['funny','posted','last_edited','helpful'],axis=1,inplace=True)\n",
    "\n",
    "#Se unen los dos dataframes anteriores\n",
    "df_final=pd.concat([df_expandido.reset_index(drop=True), df_descompuesto.reset_index(drop=True)], axis=1)\n",
    "\n",
    "#Se elimina la columna que se expandió\n",
    "df_reviews=df_final.drop('reviews', axis=1)"
   ]
  },
  {
   "cell_type": "code",
   "execution_count": 56,
   "metadata": {},
   "outputs": [
    {
     "data": {
      "text/plain": [
       "user_id       0\n",
       "item_id      28\n",
       "recommend    28\n",
       "review       28\n",
       "dtype: int64"
      ]
     },
     "execution_count": 56,
     "metadata": {},
     "output_type": "execute_result"
    }
   ],
   "source": [
    "df_reviews.isnull().sum()"
   ]
  },
  {
   "cell_type": "markdown",
   "metadata": {},
   "source": [
    "Se procede a eliminar los nulos en *items_id* ya que sin las claves de esos juegos no se puede hacer nada."
   ]
  },
  {
   "cell_type": "code",
   "execution_count": 57,
   "metadata": {},
   "outputs": [],
   "source": [
    "df_reviews.dropna(subset=['item_id'],inplace=True)"
   ]
  },
  {
   "cell_type": "code",
   "execution_count": 60,
   "metadata": {},
   "outputs": [
    {
     "data": {
      "text/plain": [
       "user_id      0\n",
       "item_id      0\n",
       "recommend    0\n",
       "review       0\n",
       "dtype: int64"
      ]
     },
     "execution_count": 60,
     "metadata": {},
     "output_type": "execute_result"
    }
   ],
   "source": [
    "df_reviews.isnull().sum()"
   ]
  },
  {
   "cell_type": "code",
   "execution_count": 62,
   "metadata": {},
   "outputs": [
    {
     "data": {
      "text/plain": [
       "'99910'"
      ]
     },
     "execution_count": 62,
     "metadata": {},
     "output_type": "execute_result"
    }
   ],
   "source": [
    "df_reviews['item_id'].max()"
   ]
  },
  {
   "cell_type": "code",
   "execution_count": 63,
   "metadata": {},
   "outputs": [],
   "source": [
    "df_reviews['item_id']=df_reviews['item_id'].astype('int32')"
   ]
  },
  {
   "cell_type": "code",
   "execution_count": 64,
   "metadata": {},
   "outputs": [
    {
     "name": "stdout",
     "output_type": "stream",
     "text": [
      "<class 'pandas.core.frame.DataFrame'>\n",
      "Index: 59305 entries, 0 to 59332\n",
      "Data columns (total 4 columns):\n",
      " #   Column     Non-Null Count  Dtype \n",
      "---  ------     --------------  ----- \n",
      " 0   user_id    59305 non-null  object\n",
      " 1   item_id    59305 non-null  int32 \n",
      " 2   recommend  59305 non-null  object\n",
      " 3   review     59305 non-null  object\n",
      "dtypes: int32(1), object(3)\n",
      "memory usage: 2.0+ MB\n"
     ]
    }
   ],
   "source": [
    "df_reviews.info()"
   ]
  },
  {
   "cell_type": "code",
   "execution_count": 65,
   "metadata": {},
   "outputs": [],
   "source": [
    "df_reviews.to_parquet(r'Datasets\\user_reviews_clean.parquet',index=False)"
   ]
  }
 ],
 "metadata": {
  "kernelspec": {
   "display_name": "Python 3",
   "language": "python",
   "name": "python3"
  },
  "language_info": {
   "codemirror_mode": {
    "name": "ipython",
    "version": 3
   },
   "file_extension": ".py",
   "mimetype": "text/x-python",
   "name": "python",
   "nbconvert_exporter": "python",
   "pygments_lexer": "ipython3",
   "version": "3.12.1"
  }
 },
 "nbformat": 4,
 "nbformat_minor": 2
}
