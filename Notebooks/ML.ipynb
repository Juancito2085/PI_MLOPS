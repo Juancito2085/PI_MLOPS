{
 "cells": [
  {
   "cell_type": "markdown",
   "metadata": {},
   "source": [
    "# ML similitud del coseno"
   ]
  },
  {
   "cell_type": "code",
   "execution_count": 1,
   "metadata": {},
   "outputs": [],
   "source": [
    "import pandas as pd\n",
    "import numpy as np\n",
    "from sklearn.feature_extraction.text import TfidfVectorizer\n",
    "from sklearn.metrics.pairwise import cosine_similarity\n",
    "from sklearn.preprocessing import LabelEncoder"
   ]
  },
  {
   "cell_type": "markdown",
   "metadata": {},
   "source": [
    "## EDA preliminar"
   ]
  },
  {
   "cell_type": "markdown",
   "metadata": {},
   "source": [
    "En primer lugar se realizará un análisis exploratorio para poder reducir los datos debido a los recursos del entorno donde se hace el despliegue de la aplicación "
   ]
  },
  {
   "cell_type": "code",
   "execution_count": 2,
   "metadata": {},
   "outputs": [],
   "source": [
    "#Se cargan los datos\n",
    "df_games=pd.read_parquet('Datasets/data_ML.parquet')\n",
    "df_users=pd.read_parquet('Datasets/users_items_clean.parquet')\n",
    "df_games['release_year']=df_games['release_year'].astype('int16')"
   ]
  },
  {
   "cell_type": "code",
   "execution_count": 3,
   "metadata": {},
   "outputs": [],
   "source": [
    "#Se unen los datasets\n",
    "df_most_popular=pd.merge(df_games,df_users[['item_id','playtime_forever']],left_on='id',right_on='item_id',how='inner')\n",
    "#Se eliminan las columnas que no se necesitan\n",
    "df_most_popular.drop(columns=['item_id','id'],inplace=True)"
   ]
  },
  {
   "cell_type": "markdown",
   "metadata": {},
   "source": [
    "Se filtran los juegos por los que se lanzaron a partir del 2014 para considerar en las recomendaciones los juegos mas nuevos."
   ]
  },
  {
   "cell_type": "code",
   "execution_count": 4,
   "metadata": {},
   "outputs": [],
   "source": [
    "#Se filtra el dataframe por los juegos lanzados a partir del 2014\n",
    "df_most_popular=df_most_popular[df_most_popular['release_year']>=2014]\n",
    "#Se agrupa por el nombre del juego y se suma el tiempo de juego\n",
    "df_playtime=df_most_popular.groupby('app_name')['playtime_forever'].sum().reset_index()\n",
    "#Se ordenan los juegos por tiempo de juego\n",
    "df_playtime.sort_values(by='playtime_forever',ascending=False)\n",
    "#Se eleimina los juegos con tiempo de juego igual a 0\n",
    "df_playtime=df_playtime[df_playtime['playtime_forever']>0]\n",
    "#Se unen los datasets\n",
    "data=pd.merge(df_playtime['app_name'],df_games,left_on='app_name',right_on='app_name',how='inner')"
   ]
  },
  {
   "cell_type": "code",
   "execution_count": 5,
   "metadata": {},
   "outputs": [
    {
     "name": "stdout",
     "output_type": "stream",
     "text": [
      "<class 'pandas.core.frame.DataFrame'>\n",
      "RangeIndex: 5211 entries, 0 to 5210\n",
      "Data columns (total 5 columns):\n",
      " #   Column        Non-Null Count  Dtype \n",
      "---  ------        --------------  ----- \n",
      " 0   app_name      5211 non-null   object\n",
      " 1   genres        5211 non-null   object\n",
      " 2   tags          5211 non-null   object\n",
      " 3   id            5211 non-null   int32 \n",
      " 4   release_year  5211 non-null   int16 \n",
      "dtypes: int16(1), int32(1), object(3)\n",
      "memory usage: 152.8+ KB\n"
     ]
    }
   ],
   "source": [
    "data.info()"
   ]
  },
  {
   "cell_type": "code",
   "execution_count": 6,
   "metadata": {},
   "outputs": [],
   "source": [
    "#Se elimina la columna del año de lanzamiento\n",
    "data.drop('release_year',axis=1,inplace=True)\n",
    "\n",
    "#Se guardan los datos en un archivo parquet\n",
    "data.to_parquet('Datasets/data.parquet')"
   ]
  },
  {
   "cell_type": "markdown",
   "metadata": {},
   "source": [
    "## Modelo de la similitud del coseno"
   ]
  },
  {
   "cell_type": "code",
   "execution_count": 18,
   "metadata": {},
   "outputs": [],
   "source": [
    "df=pd.read_parquet('Datasets/data.parquet')"
   ]
  },
  {
   "cell_type": "code",
   "execution_count": 19,
   "metadata": {},
   "outputs": [
    {
     "name": "stdout",
     "output_type": "stream",
     "text": [
      "<class 'pandas.core.frame.DataFrame'>\n",
      "RangeIndex: 5211 entries, 0 to 5210\n",
      "Data columns (total 4 columns):\n",
      " #   Column    Non-Null Count  Dtype \n",
      "---  ------    --------------  ----- \n",
      " 0   app_name  5211 non-null   object\n",
      " 1   genres    5211 non-null   object\n",
      " 2   tags      5211 non-null   object\n",
      " 3   id        5211 non-null   int32 \n",
      "dtypes: int32(1), object(3)\n",
      "memory usage: 142.6+ KB\n"
     ]
    }
   ],
   "source": [
    "df.info()"
   ]
  },
  {
   "cell_type": "code",
   "execution_count": 20,
   "metadata": {},
   "outputs": [],
   "source": [
    "df.reset_index(drop=True, inplace=True)"
   ]
  },
  {
   "cell_type": "code",
   "execution_count": 21,
   "metadata": {},
   "outputs": [],
   "source": [
    "#Vectorizar el nombre de los productos\n",
    "vectorizer=TfidfVectorizer()\n",
    "tfidf_matrix=vectorizer.fit_transform(df[['app_name','genres','tags']].apply(lambda x: ' '.join(x),axis=1))"
   ]
  },
  {
   "cell_type": "code",
   "execution_count": 22,
   "metadata": {},
   "outputs": [
    {
     "name": "stdout",
     "output_type": "stream",
     "text": [
      "Memory: 0.2952156066894531 MB\n"
     ]
    }
   ],
   "source": [
    "# Calcular la cantidad de memoria en bytes\n",
    "memory_in_bytes = (tfidf_matrix.data.nbytes + tfidf_matrix.indices.nbytes + tfidf_matrix.indptr.nbytes)\n",
    "\n",
    "# Convertir a megabytes\n",
    "memory_in_megabytes = memory_in_bytes / (1024 * 1024)\n",
    "\n",
    "print(f\"Memory: {memory_in_megabytes} MB\")"
   ]
  },
  {
   "cell_type": "code",
   "execution_count": 24,
   "metadata": {},
   "outputs": [],
   "source": [
    "#Calcular la matriz de similitud del coseno\n",
    "similarity_matrix=cosine_similarity(tfidf_matrix)"
   ]
  },
  {
   "cell_type": "code",
   "execution_count": 25,
   "metadata": {},
   "outputs": [
    {
     "name": "stdout",
     "output_type": "stream",
     "text": [
      "Memory: 207.17255401611328 MB\n"
     ]
    }
   ],
   "source": [
    "# Calcular la cantidad de memoria en bytes\n",
    "memory_in_bytes = similarity_matrix.nbytes\n",
    "\n",
    "# Convertir a megabytes\n",
    "memory_in_megabytes = memory_in_bytes / (1024 * 1024)\n",
    "\n",
    "print(f\"Memory: {memory_in_megabytes} MB\")"
   ]
  },
  {
   "cell_type": "code",
   "execution_count": 27,
   "metadata": {},
   "outputs": [
    {
     "name": "stdout",
     "output_type": "stream",
     "text": [
      "3592             Ride The Bullet\n",
      "3591                        Ride\n",
      "3925           Slide Ride Arcade\n",
      "1764    Funfair Ride Simulator 3\n",
      "3458                   R.O.O.T.S\n",
      "Name: app_name, dtype: object\n"
     ]
    }
   ],
   "source": [
    "#Se crea el modelo de recomendación y se prueba con un id de un juego\n",
    "item_id=508290\n",
    "if df[df['id']==item_id].empty:\n",
    "    print('No existe el item')\n",
    "else:\n",
    "    producto_index=df[df['id']==item_id].index[0]\n",
    "    product_similarities=similarity_matrix[producto_index]\n",
    "    most_similar_products_index=np.argsort(-product_similarities)[1:6]\n",
    "    most_similar_products=df.loc[most_similar_products_index,'app_name']\n",
    "    print(most_similar_products)"
   ]
  },
  {
   "cell_type": "code",
   "execution_count": 28,
   "metadata": {},
   "outputs": [
    {
     "data": {
      "text/plain": [
       "['Ride The Bullet',\n",
       " 'Ride',\n",
       " 'Slide Ride Arcade',\n",
       " 'Funfair Ride Simulator 3',\n",
       " 'R.O.O.T.S']"
      ]
     },
     "execution_count": 28,
     "metadata": {},
     "output_type": "execute_result"
    }
   ],
   "source": [
    "#Se revisan los resultados\n",
    "most_similar_products.values.tolist()"
   ]
  }
 ],
 "metadata": {
  "kernelspec": {
   "display_name": "Python 3",
   "language": "python",
   "name": "python3"
  },
  "language_info": {
   "codemirror_mode": {
    "name": "ipython",
    "version": 3
   },
   "file_extension": ".py",
   "mimetype": "text/x-python",
   "name": "python",
   "nbconvert_exporter": "python",
   "pygments_lexer": "ipython3",
   "version": "3.12.1"
  }
 },
 "nbformat": 4,
 "nbformat_minor": 2
}
